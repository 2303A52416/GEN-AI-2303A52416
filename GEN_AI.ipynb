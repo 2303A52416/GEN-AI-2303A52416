{
  "nbformat": 4,
  "nbformat_minor": 0,
  "metadata": {
    "colab": {
      "provenance": [],
      "authorship_tag": "ABX9TyPIDuWu/yUqH+ZaArEp7fBH",
      "include_colab_link": true
    },
    "kernelspec": {
      "name": "python3",
      "display_name": "Python 3"
    },
    "language_info": {
      "name": "python"
    }
  },
  "cells": [
    {
      "cell_type": "markdown",
      "metadata": {
        "id": "view-in-github",
        "colab_type": "text"
      },
      "source": [
        "<a href=\"https://colab.research.google.com/github/2303A52416/GEN-AI-2303A52416/blob/main/GEN_AI.ipynb\" target=\"_parent\"><img src=\"https://colab.research.google.com/assets/colab-badge.svg\" alt=\"Open In Colab\"/></a>"
      ]
    },
    {
      "cell_type": "code",
      "execution_count": 2,
      "metadata": {
        "colab": {
          "base_uri": "https://localhost:8080/"
        },
        "id": "sgs95kDMFwuc",
        "outputId": "444a9804-0134-4383-df6b-8bda80b4eecd"
      },
      "outputs": [
        {
          "output_type": "stream",
          "name": "stdout",
          "text": [
            "Error Metrics from Scratch:\n",
            "Mean Absolute Error (MAE): 0.4600\n",
            "Mean Squared Error (MSE): 0.2460\n",
            "Root Mean Squared Error (RMSE): 0.4960\n",
            "\n",
            "Error Metrics from sklearn:\n",
            "Mean Absolute Error (MAE): 0.4600\n",
            "Mean Squared Error (MSE): 0.2460\n",
            "Root Mean Squared Error (RMSE): 0.4960\n"
          ]
        }
      ],
      "source": [
        "import numpy as np\n",
        "from sklearn.metrics import mean_absolute_error, mean_squared_error\n",
        "\n",
        "# Given actual and predicted values\n",
        "Y_actual = np.array([20, 30, 40, 50, 60])\n",
        "Y_pred = np.array([20.5, 30.3, 40.2, 50.6, 60.7])\n",
        "\n",
        "# Implementing error metrics from scratch\n",
        "mae_manual = np.mean(np.abs(Y_actual - Y_pred))\n",
        "mse_manual = np.mean((Y_actual - Y_pred) ** 2)\n",
        "rmse_manual = np.sqrt(mse_manual)\n",
        "\n",
        "# Using sklearn for verification\n",
        "mae_sklearn = mean_absolute_error(Y_actual, Y_pred)\n",
        "mse_sklearn = mean_squared_error(Y_actual, Y_pred)\n",
        "rmse_sklearn = np.sqrt(mse_sklearn)\n",
        "\n",
        "# Print results\n",
        "print(\"Error Metrics from Scratch:\")\n",
        "print(f\"Mean Absolute Error (MAE): {mae_manual:.4f}\")\n",
        "print(f\"Mean Squared Error (MSE): {mse_manual:.4f}\")\n",
        "print(f\"Root Mean Squared Error (RMSE): {rmse_manual:.4f}\")\n",
        "\n",
        "print(\"\\nError Metrics from sklearn:\")\n",
        "print(f\"Mean Absolute Error (MAE): {mae_sklearn:.4f}\")\n",
        "print(f\"Mean Squared Error (MSE): {mse_sklearn:.4f}\")\n",
        "print(f\"Root Mean Squared Error (RMSE): {rmse_sklearn:.4f}\")"
      ]
    },
    {
      "cell_type": "code",
      "source": [
        "import numpy as np\n",
        "from sklearn.metrics import accuracy_score, precision_score, recall_score, f1_score\n",
        "\n",
        "# Given actual and predicted values\n",
        "Y_actual = np.array([\n",
        "    [0, 0, 1],\n",
        "    [1, 2, 0],\n",
        "    [0, 0, 1],\n",
        "    [0, 2, 0],\n",
        "    [0, 1, 1],\n",
        "    [2, 2, 1],\n",
        "    [0, 2, 1],\n",
        "    [0, 2, 2],\n",
        "    [1, 0, 2],\n",
        "    [2, 2, 2]\n",
        "])\n",
        "\n",
        "Y_pred = np.array([\n",
        "    [0, 0, 1],\n",
        "    [1, 2, 0],\n",
        "    [0, 1, 1],\n",
        "    [2, 2, 1],\n",
        "    [0, 2, 1],\n",
        "    [0, 2, 2],\n",
        "    [1, 0, 2],\n",
        "    [2, 2, 2],\n",
        "    [0, 0, 1],\n",
        "    [0, 2, 0]\n",
        "])\n",
        "\n",
        "# Flatten arrays\n",
        "Y_actual_flat = Y_actual.flatten()\n",
        "Y_pred_flat = Y_pred.flatten()\n",
        "\n",
        "# Implementing evaluation metrics from scratch\n",
        "def accuracy(y_true, y_pred):\n",
        "    return np.sum(y_true == y_pred) / len(y_true)\n",
        "\n",
        "def precision(y_true, y_pred):\n",
        "    unique_classes = np.unique(y_true)\n",
        "    precision_scores = []\n",
        "    for cls in unique_classes:\n",
        "        tp = np.sum((y_pred == cls) & (y_true == cls))\n",
        "        fp = np.sum((y_pred == cls) & (y_true != cls))\n",
        "        precision_scores.append(tp / (tp + fp) if (tp + fp) > 0 else 0)\n",
        "    return np.mean(precision_scores)\n",
        "\n",
        "def recall(y_true, y_pred):\n",
        "    unique_classes = np.unique(y_true)\n",
        "    recall_scores = []\n",
        "    for cls in unique_classes:\n",
        "        tp = np.sum((y_pred == cls) & (y_true == cls))\n",
        "        fn = np.sum((y_pred != cls) & (y_true == cls))\n",
        "        recall_scores.append(tp / (tp + fn) if (tp + fn) > 0 else 0)\n",
        "    return np.mean(recall_scores)\n",
        "\n",
        "def f1(y_true, y_pred):\n",
        "    p = precision(y_true, y_pred)\n",
        "    r = recall(y_true, y_pred)\n",
        "    return 2 * (p * r) / (p + r) if (p + r) > 0 else 0\n",
        "\n",
        "accuracy_manual = accuracy(Y_actual_flat, Y_pred_flat)\n",
        "precision_manual = precision(Y_actual_flat, Y_pred_flat)\n",
        "recall_manual = recall(Y_actual_flat, Y_pred_flat)\n",
        "f1_manual = f1(Y_actual_flat, Y_pred_flat)\n",
        "\n",
        "# Using sklearn for verification\n",
        "accuracy_sklearn = accuracy_score(Y_actual_flat, Y_pred_flat)\n",
        "precision_sklearn = precision_score(Y_actual_flat, Y_pred_flat, average='macro')\n",
        "recall_sklearn = recall_score(Y_actual_flat, Y_pred_flat, average='macro')\n",
        "f1_sklearn = f1_score(Y_actual_flat, Y_pred_flat, average='macro')\n",
        "\n",
        "# Print results\n",
        "print(\"Evaluation Metrics from Scratch:\")\n",
        "print(f\"Accuracy: {accuracy_manual:.4f}\")\n",
        "print(f\"Precision: {precision_manual:.4f}\")\n",
        "print(f\"Recall: {recall_manual:.4f}\")\n",
        "print(f\"F1 Score: {f1_manual:.4f}\")\n",
        "\n",
        "print(\"\\nEvaluation Metrics from sklearn:\")\n",
        "print(f\"Accuracy: {accuracy_sklearn:.4f}\")\n",
        "print(f\"Precision: {precision_sklearn:.4f}\")\n",
        "print(f\"Recall: {recall_sklearn:.4f}\")\n",
        "print(f\"F1 Score: {f1_sklearn:.4f}\")\n"
      ],
      "metadata": {
        "colab": {
          "base_uri": "https://localhost:8080/"
        },
        "id": "hLSROMjLHWNz",
        "outputId": "03748d74-1985-4511-92f6-fd9aeb526ad7"
      },
      "execution_count": 3,
      "outputs": [
        {
          "output_type": "stream",
          "name": "stdout",
          "text": [
            "Evaluation Metrics from Scratch:\n",
            "Accuracy: 0.5333\n",
            "Precision: 0.5303\n",
            "Recall: 0.5303\n",
            "F1 Score: 0.5303\n",
            "\n",
            "Evaluation Metrics from sklearn:\n",
            "Accuracy: 0.5333\n",
            "Precision: 0.5303\n",
            "Recall: 0.5303\n",
            "F1 Score: 0.5303\n"
          ]
        }
      ]
    }
  ]
}